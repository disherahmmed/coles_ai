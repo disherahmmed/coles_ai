{
  "cells": [
    {
      "cell_type": "code",
      "execution_count": 71,
      "metadata": {
        "colab": {
          "base_uri": "https://localhost:8080/"
        },
        "id": "KLDcLS5ZVtu0",
        "outputId": "e71ae9dd-9560-4a97-ae26-4347f53de4af"
      },
      "outputs": [
        {
          "name": "stdout",
          "output_type": "stream",
          "text": [
            "Requirement already satisfied: streamlit in /usr/local/lib/python3.12/dist-packages (1.50.0)\n",
            "Requirement already satisfied: pyngrok in /usr/local/lib/python3.12/dist-packages (7.4.0)\n",
            "Requirement already satisfied: pandas in /usr/local/lib/python3.12/dist-packages (2.3.3)\n",
            "Requirement already satisfied: openpyxl in /usr/local/lib/python3.12/dist-packages (3.1.5)\n",
            "Requirement already satisfied: groq in /usr/local/lib/python3.12/dist-packages (0.32.0)\n",
            "Requirement already satisfied: altair!=5.4.0,!=5.4.1,<6,>=4.0 in /usr/local/lib/python3.12/dist-packages (from streamlit) (5.5.0)\n",
            "Requirement already satisfied: blinker<2,>=1.5.0 in /usr/local/lib/python3.12/dist-packages (from streamlit) (1.9.0)\n",
            "Requirement already satisfied: cachetools<7,>=4.0 in /usr/local/lib/python3.12/dist-packages (from streamlit) (5.5.2)\n",
            "Requirement already satisfied: click<9,>=7.0 in /usr/local/lib/python3.12/dist-packages (from streamlit) (8.3.0)\n",
            "Requirement already satisfied: numpy<3,>=1.23 in /usr/local/lib/python3.12/dist-packages (from streamlit) (2.0.2)\n",
            "Requirement already satisfied: packaging<26,>=20 in /usr/local/lib/python3.12/dist-packages (from streamlit) (25.0)\n",
            "Requirement already satisfied: pillow<12,>=7.1.0 in /usr/local/lib/python3.12/dist-packages (from streamlit) (11.3.0)\n",
            "Requirement already satisfied: protobuf<7,>=3.20 in /usr/local/lib/python3.12/dist-packages (from streamlit) (5.29.5)\n",
            "Requirement already satisfied: pyarrow>=7.0 in /usr/local/lib/python3.12/dist-packages (from streamlit) (18.1.0)\n",
            "Requirement already satisfied: requests<3,>=2.27 in /usr/local/lib/python3.12/dist-packages (from streamlit) (2.32.4)\n",
            "Requirement already satisfied: tenacity<10,>=8.1.0 in /usr/local/lib/python3.12/dist-packages (from streamlit) (8.5.0)\n",
            "Requirement already satisfied: toml<2,>=0.10.1 in /usr/local/lib/python3.12/dist-packages (from streamlit) (0.10.2)\n",
            "Requirement already satisfied: typing-extensions<5,>=4.4.0 in /usr/local/lib/python3.12/dist-packages (from streamlit) (4.15.0)\n",
            "Requirement already satisfied: watchdog<7,>=2.1.5 in /usr/local/lib/python3.12/dist-packages (from streamlit) (6.0.0)\n",
            "Requirement already satisfied: gitpython!=3.1.19,<4,>=3.0.7 in /usr/local/lib/python3.12/dist-packages (from streamlit) (3.1.45)\n",
            "Requirement already satisfied: pydeck<1,>=0.8.0b4 in /usr/local/lib/python3.12/dist-packages (from streamlit) (0.9.1)\n",
            "Requirement already satisfied: tornado!=6.5.0,<7,>=6.0.3 in /usr/local/lib/python3.12/dist-packages (from streamlit) (6.4.2)\n",
            "Requirement already satisfied: PyYAML>=5.1 in /usr/local/lib/python3.12/dist-packages (from pyngrok) (6.0.3)\n",
            "Requirement already satisfied: python-dateutil>=2.8.2 in /usr/local/lib/python3.12/dist-packages (from pandas) (2.9.0.post0)\n",
            "Requirement already satisfied: pytz>=2020.1 in /usr/local/lib/python3.12/dist-packages (from pandas) (2025.2)\n",
            "Requirement already satisfied: tzdata>=2022.7 in /usr/local/lib/python3.12/dist-packages (from pandas) (2025.2)\n",
            "Requirement already satisfied: et-xmlfile in /usr/local/lib/python3.12/dist-packages (from openpyxl) (2.0.0)\n",
            "Requirement already satisfied: anyio<5,>=3.5.0 in /usr/local/lib/python3.12/dist-packages (from groq) (4.11.0)\n",
            "Requirement already satisfied: distro<2,>=1.7.0 in /usr/local/lib/python3.12/dist-packages (from groq) (1.9.0)\n",
            "Requirement already satisfied: httpx<1,>=0.23.0 in /usr/local/lib/python3.12/dist-packages (from groq) (0.28.1)\n",
            "Requirement already satisfied: pydantic<3,>=1.9.0 in /usr/local/lib/python3.12/dist-packages (from groq) (2.11.10)\n",
            "Requirement already satisfied: sniffio in /usr/local/lib/python3.12/dist-packages (from groq) (1.3.1)\n",
            "Requirement already satisfied: jinja2 in /usr/local/lib/python3.12/dist-packages (from altair!=5.4.0,!=5.4.1,<6,>=4.0->streamlit) (3.1.6)\n",
            "Requirement already satisfied: jsonschema>=3.0 in /usr/local/lib/python3.12/dist-packages (from altair!=5.4.0,!=5.4.1,<6,>=4.0->streamlit) (4.25.1)\n",
            "Requirement already satisfied: narwhals>=1.14.2 in /usr/local/lib/python3.12/dist-packages (from altair!=5.4.0,!=5.4.1,<6,>=4.0->streamlit) (2.7.0)\n",
            "Requirement already satisfied: idna>=2.8 in /usr/local/lib/python3.12/dist-packages (from anyio<5,>=3.5.0->groq) (3.10)\n",
            "Requirement already satisfied: gitdb<5,>=4.0.1 in /usr/local/lib/python3.12/dist-packages (from gitpython!=3.1.19,<4,>=3.0.7->streamlit) (4.0.12)\n",
            "Requirement already satisfied: certifi in /usr/local/lib/python3.12/dist-packages (from httpx<1,>=0.23.0->groq) (2025.10.5)\n",
            "Requirement already satisfied: httpcore==1.* in /usr/local/lib/python3.12/dist-packages (from httpx<1,>=0.23.0->groq) (1.0.9)\n",
            "Requirement already satisfied: h11>=0.16 in /usr/local/lib/python3.12/dist-packages (from httpcore==1.*->httpx<1,>=0.23.0->groq) (0.16.0)\n",
            "Requirement already satisfied: annotated-types>=0.6.0 in /usr/local/lib/python3.12/dist-packages (from pydantic<3,>=1.9.0->groq) (0.7.0)\n",
            "Requirement already satisfied: pydantic-core==2.33.2 in /usr/local/lib/python3.12/dist-packages (from pydantic<3,>=1.9.0->groq) (2.33.2)\n",
            "Requirement already satisfied: typing-inspection>=0.4.0 in /usr/local/lib/python3.12/dist-packages (from pydantic<3,>=1.9.0->groq) (0.4.2)\n",
            "Requirement already satisfied: six>=1.5 in /usr/local/lib/python3.12/dist-packages (from python-dateutil>=2.8.2->pandas) (1.17.0)\n",
            "Requirement already satisfied: charset_normalizer<4,>=2 in /usr/local/lib/python3.12/dist-packages (from requests<3,>=2.27->streamlit) (3.4.3)\n",
            "Requirement already satisfied: urllib3<3,>=1.21.1 in /usr/local/lib/python3.12/dist-packages (from requests<3,>=2.27->streamlit) (2.5.0)\n",
            "Requirement already satisfied: smmap<6,>=3.0.1 in /usr/local/lib/python3.12/dist-packages (from gitdb<5,>=4.0.1->gitpython!=3.1.19,<4,>=3.0.7->streamlit) (5.0.2)\n",
            "Requirement already satisfied: MarkupSafe>=2.0 in /usr/local/lib/python3.12/dist-packages (from jinja2->altair!=5.4.0,!=5.4.1,<6,>=4.0->streamlit) (3.0.3)\n",
            "Requirement already satisfied: attrs>=22.2.0 in /usr/local/lib/python3.12/dist-packages (from jsonschema>=3.0->altair!=5.4.0,!=5.4.1,<6,>=4.0->streamlit) (25.4.0)\n",
            "Requirement already satisfied: jsonschema-specifications>=2023.03.6 in /usr/local/lib/python3.12/dist-packages (from jsonschema>=3.0->altair!=5.4.0,!=5.4.1,<6,>=4.0->streamlit) (2025.9.1)\n",
            "Requirement already satisfied: referencing>=0.28.4 in /usr/local/lib/python3.12/dist-packages (from jsonschema>=3.0->altair!=5.4.0,!=5.4.1,<6,>=4.0->streamlit) (0.36.2)\n",
            "Requirement already satisfied: rpds-py>=0.7.1 in /usr/local/lib/python3.12/dist-packages (from jsonschema>=3.0->altair!=5.4.0,!=5.4.1,<6,>=4.0->streamlit) (0.27.1)\n"
          ]
        }
      ],
      "source": [
        "!pip install --upgrade --no-cache-dir streamlit pyngrok pandas openpyxl groq\n"
      ]
    },
    {
      "cell_type": "code",
      "execution_count": null,
      "metadata": {},
      "outputs": [],
      "source": []
    },
    {
      "cell_type": "code",
      "execution_count": null,
      "metadata": {
        "colab": {
          "base_uri": "https://localhost:8080/"
        },
        "id": "JKYEgokQXMSC",
        "outputId": "0afa2cee-dada-4bc5-ebe4-37b149796bb1"
      },
      "outputs": [
        {
          "name": "stdout",
          "output_type": "stream",
          "text": [
            "GROQ_API_KEY set? True\n",
            "NGROK_AUTH_TOKEN set? True\n"
          ]
        }
      ],
      "source": [
        "# api keys\n",
        "import os\n",
        "\n",
        "import os\n",
        "# Set this in your environment, not in code\n",
        "# os.environ[\"GROQ_API_KEY\"] = \"your_api_key_here\"\n",
        "\n"
      ]
    },
    {
      "cell_type": "code",
      "execution_count": 79,
      "metadata": {
        "colab": {
          "base_uri": "https://localhost:8080/"
        },
        "id": "HuFCrWzL2e_a",
        "outputId": "657aa37d-d3be-4f0a-fd5f-2876f8451c97"
      },
      "outputs": [
        {
          "name": "stdout",
          "output_type": "stream",
          "text": [
            "Overwriting app.py\n"
          ]
        }
      ],
      "source": [
        "%%writefile app.py\n",
        "\n",
        "import streamlit as st\n",
        "import pandas as pd\n",
        "from groq import Groq\n",
        "import os\n",
        "\n",
        "# ----------------------------\n",
        "# SETUP GROQ API\n",
        "# ----------------------------\n",
        "api_key = os.getenv(\"GROQ_API_KEY\")\n",
        "if not api_key:\n",
        "    st.error(\"⚠ Please set your GROQ_API_KEY first using:\\n\\n`os.environ['GROQ_API_KEY']='YOUR_KEY'`\")\n",
        "    st.stop()\n",
        "\n",
        "client = Groq(api_key=api_key)\n",
        "\n",
        "# ----------------------------\n",
        "# CREATE RETAIL DATASET\n",
        "# ----------------------------\n",
        "@st.cache_data\n",
        "def create_dataset():\n",
        "    data = {\n",
        "        \"ProductName\": [\n",
        "            \"Wireless Mouse\", \"Gaming Keyboard\", \"USB-C Charger\", \"Bluetooth Speaker\", \"LED Monitor\",\n",
        "            \"Smartwatch\", \"Noise Cancelling Headphones\", \"External Hard Drive\", \"Laptop Stand\", \"Webcam\",\n",
        "            \"Office Chair\", \"Desk Lamp\", \"Portable Fan\", \"Power Bank\", \"HDMI Cable\",\n",
        "            \"Phone Tripod\", \"Smart Light Bulb\", \"Wireless Earbuds\", \"Mechanical Keyboard\", \"Microphone\",\n",
        "            \"Notebook\", \"Pen Set\", \"Coffee Mug\", \"Planner\", \"Table Clock\",\n",
        "            \"Wall Calendar\", \"Candle - Lavender\", \"Candle - Vanilla\", \"Candle - Rose\", \"Candle - Sandalwood\"\n",
        "        ],\n",
        "        \"Category\": [\n",
        "            \"Electronics\", \"Electronics\", \"Electronics\", \"Electronics\", \"Electronics\",\n",
        "            \"Electronics\", \"Electronics\", \"Electronics\", \"Accessories\", \"Electronics\",\n",
        "            \"Furniture\", \"Home Decor\", \"Home Appliances\", \"Electronics\", \"Accessories\",\n",
        "            \"Accessories\", \"Home Decor\", \"Electronics\", \"Electronics\", \"Electronics\",\n",
        "            \"Stationery\", \"Stationery\", \"Kitchenware\", \"Stationery\", \"Home Decor\",\n",
        "            \"Home Decor\", \"Home Decor\", \"Home Decor\", \"Home Decor\", \"Home Decor\"\n",
        "        ],\n",
        "        \"Price\": [\n",
        "            1500, 3500, 1800, 2500, 22000,\n",
        "            12000, 18000, 9000, 2500, 4000,\n",
        "            15000, 3000, 2000, 3000, 800,\n",
        "            1000, 1500, 8000, 7000, 4500,\n",
        "            200, 500, 700, 1000, 1500,\n",
        "            1000, 1200, 1300, 1100, 1400\n",
        "        ],\n",
        "        \"Stock\": [\n",
        "            50, 40, 100, 35, 25,\n",
        "            60, 30, 80, 55, 70,\n",
        "            20, 45, 60, 90, 100,\n",
        "            65, 85, 40, 50, 60,\n",
        "            200, 150, 80, 100, 70,\n",
        "            60, 30, 40, 35, 25\n",
        "        ]\n",
        "    }\n",
        "    return pd.DataFrame(data)\n",
        "\n",
        "data = create_dataset()\n",
        "\n",
        "# ----------------------------\n",
        "# FUNCTION TO HANDLE CHAT\n",
        "# ----------------------------\n",
        "def query_bot(prompt, df):\n",
        "    try:\n",
        "        system_prompt = f\"\"\"\n",
        "        You are a helpful retail store assistant chatbot.\n",
        "        You have access to the following product inventory:\n",
        "\n",
        "        {df.to_string(index=False)}\n",
        "\n",
        "        Your tasks:\n",
        "        - If user asks for a product price, check if it exists in data and return the price.\n",
        "        - If user asks what products are available, list some.\n",
        "        - If user asks general retail/store-related questions (offers, return policy, categories, etc.), respond helpfully.\n",
        "        - If product is not found, politely inform the user and suggest related products.\n",
        "        \"\"\"\n",
        "\n",
        "        completion = client.chat.completions.create(\n",
        "            model=\"llama-3.3-70b-versatile\",\n",
        "            messages=[\n",
        "                {\"role\": \"system\", \"content\": system_prompt},\n",
        "                {\"role\": \"user\", \"content\": prompt}\n",
        "            ],\n",
        "            temperature=0.7\n",
        "        )\n",
        "\n",
        "        return completion.choices[0].message.content.strip()\n",
        "\n",
        "    except Exception as e:\n",
        "        return f\"⚠ Error calling Groq API: {e}\"\n",
        "\n",
        "# ----------------------------\n",
        "# STREAMLIT UI\n",
        "# ----------------------------\n",
        "st.set_page_config(\n",
        "    page_title=\"🛒 Coles Assistant\",\n",
        "    layout=\"centered\",\n",
        "    initial_sidebar_state=\"collapsed\"\n",
        ")\n",
        "\n",
        "\n",
        "st.markdown(\"\"\"\n",
        "<style>\n",
        "    /* Main background with animated gradient */\n",
        "    .stApp {\n",
        "        background: linear-gradient(-45deg, #ee7752, #e73c7e, #23a6d5, #23d5ab);\n",
        "        background-size: 400% 400%;\n",
        "        animation: gradientShift 15s ease infinite;\n",
        "    }\n",
        "\n",
        "    @keyframes gradientShift {\n",
        "        0% { background-position: 0% 50%; }\n",
        "        50% { background-position: 100% 50%; }\n",
        "        100% { background-position: 0% 50%; }\n",
        "    }\n",
        "\n",
        "    /* Hide default Streamlit elements */\n",
        "    #MainMenu {visibility: hidden;}\n",
        "    footer {visibility: hidden;}\n",
        "    header {visibility: hidden;}\n",
        "\n",
        "    /* Chat container with glassmorphism */\n",
        "    .main .block-container {\n",
        "        background: rgba(255, 255, 255, 0.1);\n",
        "        backdrop-filter: blur(10px);\n",
        "        border-radius: 30px;\n",
        "        padding: 2rem;\n",
        "        border: 1px solid rgba(255, 255, 255, 0.2);\n",
        "        box-shadow: 0 8px 32px 0 rgba(31, 38, 135, 0.37);\n",
        "        max-width: 900px;\n",
        "        margin-top: 2rem;\n",
        "    }\n",
        "\n",
        "    /* Title styling */\n",
        "    h1 {\n",
        "        color: white !important;\n",
        "        text-align: center;\n",
        "        font-size: 3rem !important;\n",
        "        font-weight: 800 !important;\n",
        "        text-shadow: 2px 2px 4px rgba(0,0,0,0.3);\n",
        "        margin-bottom: 0.5rem !important;\n",
        "        animation: fadeInDown 0.8s ease-out;\n",
        "    }\n",
        "\n",
        "    @keyframes fadeInDown {\n",
        "        from {\n",
        "            opacity: 0;\n",
        "            transform: translateY(-20px);\n",
        "        }\n",
        "        to {\n",
        "            opacity: 1;\n",
        "            transform: translateY(0);\n",
        "        }\n",
        "    }\n",
        "\n",
        "    /* Subtitle */\n",
        "    .stMarkdown p {\n",
        "        color: rgba(255, 255, 255, 0.9) !important;\n",
        "        text-align: center;\n",
        "        font-size: 1.1rem;\n",
        "        margin-bottom: 2rem;\n",
        "    }\n",
        "\n",
        "    /* Chat messages */\n",
        "    .stChatMessage {\n",
        "        background: rgba(255, 255, 255, 0.15) !important;\n",
        "        backdrop-filter: blur(10px) !important;\n",
        "        border-radius: 20px !important;\n",
        "        border: 1px solid rgba(255, 255, 255, 0.2) !important;\n",
        "        padding: 1rem !important;\n",
        "        margin: 0.5rem 0 !important;\n",
        "        animation: slideIn 0.3s ease-out;\n",
        "        box-shadow: 0 4px 15px rgba(0, 0, 0, 0.1);\n",
        "    }\n",
        "\n",
        "    @keyframes slideIn {\n",
        "        from {\n",
        "            opacity: 0;\n",
        "            transform: translateY(10px);\n",
        "        }\n",
        "        to {\n",
        "            opacity: 1;\n",
        "            transform: translateY(0);\n",
        "        }\n",
        "    }\n",
        "\n",
        "    /* User message styling */\n",
        "    [data-testid=\"stChatMessageContent\"] {\n",
        "        color: white !important;\n",
        "        font-size: 1rem;\n",
        "    }\n",
        "\n",
        "    /* Chat input */\n",
        "    .stChatInput {\n",
        "        background: rgba(255, 255, 255, 0.2) !important;\n",
        "        backdrop-filter: blur(10px) !important;\n",
        "        border-radius: 25px !important;\n",
        "        border: 2px solid rgba(255, 255, 255, 0.3) !important;\n",
        "        padding: 0.5rem !important;\n",
        "    }\n",
        "\n",
        "    .stChatInput input {\n",
        "        background: transparent !important;\n",
        "        color: white !important;\n",
        "        border: none !important;\n",
        "        font-size: 1rem !important;\n",
        "    }\n",
        "\n",
        "    .stChatInput input::placeholder {\n",
        "        color: rgba(255, 255, 255, 0.6) !important;\n",
        "    }\n",
        "\n",
        "    /* Spinner */\n",
        "    .stSpinner > div {\n",
        "        border-top-color: white !important;\n",
        "    }\n",
        "\n",
        "    /* Expander */\n",
        "    .streamlit-expanderHeader {\n",
        "        background: rgba(255, 255, 255, 0.2) !important;\n",
        "        backdrop-filter: blur(10px) !important;\n",
        "        border-radius: 15px !important;\n",
        "        color: white !important;\n",
        "        font-weight: 600 !important;\n",
        "        border: 1px solid rgba(255, 255, 255, 0.2) !important;\n",
        "    }\n",
        "\n",
        "    .streamlit-expanderContent {\n",
        "        background: rgba(255, 255, 255, 0.15) !important;\n",
        "        backdrop-filter: blur(10px) !important;\n",
        "        border-radius: 0 0 15px 15px !important;\n",
        "        border: 1px solid rgba(255, 255, 255, 0.2) !important;\n",
        "    }\n",
        "\n",
        "    /* Dataframe styling */\n",
        "    .dataframe {\n",
        "        background: rgba(255, 255, 255, 0.9) !important;\n",
        "        border-radius: 10px !important;\n",
        "    }\n",
        "\n",
        "    /* Avatar icons */\n",
        "    .stChatMessage [data-testid=\"chatAvatarIcon\"] {\n",
        "        background: linear-gradient(135deg, #667eea 0%, #764ba2 100%) !important;\n",
        "        box-shadow: 0 4px 15px rgba(0, 0, 0, 0.2);\n",
        "    }\n",
        "\n",
        "    /* Scrollbar */\n",
        "    ::-webkit-scrollbar {\n",
        "        width: 10px;\n",
        "    }\n",
        "\n",
        "    ::-webkit-scrollbar-track {\n",
        "        background: rgba(255, 255, 255, 0.1);\n",
        "        border-radius: 10px;\n",
        "    }\n",
        "\n",
        "    ::-webkit-scrollbar-thumb {\n",
        "        background: rgba(255, 255, 255, 0.3);\n",
        "        border-radius: 10px;\n",
        "    }\n",
        "\n",
        "    ::-webkit-scrollbar-thumb:hover {\n",
        "        background: rgba(255, 255, 255, 0.5);\n",
        "    }\n",
        "</style>\n",
        "\"\"\", unsafe_allow_html=True)\n",
        "\n",
        "# ----------------------------\n",
        "# STREAMLIT UI\n",
        "# ----------------------------\n",
        "st.title(\"🛍️ Coles Assistant\")\n",
        "st.markdown(\"✨ Ask about product prices, stock, or general store information\")\n",
        "\n",
        "# Initialize session state for conversation\n",
        "if \"messages\" not in st.session_state:\n",
        "    st.session_state.messages = []\n",
        "\n",
        "# Display previous messages\n",
        "for msg in st.session_state.messages:\n",
        "    with st.chat_message(msg[\"role\"]):\n",
        "        st.markdown(msg[\"content\"])\n",
        "\n",
        "# Chat input box\n",
        "if user_input := st.chat_input(\"💬 Type your question here...\"):\n",
        "    # Save user message\n",
        "    st.session_state.messages.append({\"role\": \"user\", \"content\": user_input})\n",
        "    with st.chat_message(\"user\"):\n",
        "        st.markdown(user_input)\n",
        "\n",
        "    # Generate assistant reply\n",
        "    with st.chat_message(\"assistant\"):\n",
        "        with st.spinner(\"✨ Thinking...\"):\n",
        "            response = query_bot(user_input, data)\n",
        "            st.markdown(response)\n",
        "\n",
        "    # Save assistant reply\n",
        "    st.session_state.messages.append({\"role\": \"assistant\", \"content\": response})\n",
        "\n",
        "# Display inventory (optional)\n",
        "#with st.expander(\"📦 View Product Inventory\"):\n",
        " #   st.dataframe(data, use_container_width=True)\n"
      ]
    },
    {
      "cell_type": "code",
      "execution_count": null,
      "metadata": {
        "colab": {
          "base_uri": "https://localhost:8080/"
        },
        "id": "tP4Tsd5kAg0G",
        "outputId": "9beff542-d36a-47ea-c213-7e12cd92a474"
      },
      "outputs": [
        {
          "name": "stdout",
          "output_type": "stream",
          "text": [
            "Authtoken saved to configuration file: /root/.config/ngrok/ngrok.yml\n"
          ]
        }
      ],
      "source": [
        "!ngrok config add-authtoken \"my token here\""
      ]
    },
    {
      "cell_type": "code",
      "execution_count": 75,
      "metadata": {
        "colab": {
          "base_uri": "https://localhost:8080/"
        },
        "id": "mBtJhjuKChpM",
        "outputId": "0463ceec-74d4-4019-c784-45d0855cb8c4"
      },
      "outputs": [
        {
          "name": "stdout",
          "output_type": "stream",
          "text": [
            "Requirement already satisfied: pyngrok in /usr/local/lib/python3.12/dist-packages (7.4.0)\n",
            "Requirement already satisfied: streamlit in /usr/local/lib/python3.12/dist-packages (1.50.0)\n",
            "Requirement already satisfied: groq in /usr/local/lib/python3.12/dist-packages (0.32.0)\n",
            "Requirement already satisfied: PyYAML>=5.1 in /usr/local/lib/python3.12/dist-packages (from pyngrok) (6.0.3)\n",
            "Requirement already satisfied: altair!=5.4.0,!=5.4.1,<6,>=4.0 in /usr/local/lib/python3.12/dist-packages (from streamlit) (5.5.0)\n",
            "Requirement already satisfied: blinker<2,>=1.5.0 in /usr/local/lib/python3.12/dist-packages (from streamlit) (1.9.0)\n",
            "Requirement already satisfied: cachetools<7,>=4.0 in /usr/local/lib/python3.12/dist-packages (from streamlit) (5.5.2)\n",
            "Requirement already satisfied: click<9,>=7.0 in /usr/local/lib/python3.12/dist-packages (from streamlit) (8.3.0)\n",
            "Requirement already satisfied: numpy<3,>=1.23 in /usr/local/lib/python3.12/dist-packages (from streamlit) (2.0.2)\n",
            "Requirement already satisfied: packaging<26,>=20 in /usr/local/lib/python3.12/dist-packages (from streamlit) (25.0)\n",
            "Requirement already satisfied: pandas<3,>=1.4.0 in /usr/local/lib/python3.12/dist-packages (from streamlit) (2.3.3)\n",
            "Requirement already satisfied: pillow<12,>=7.1.0 in /usr/local/lib/python3.12/dist-packages (from streamlit) (11.3.0)\n",
            "Requirement already satisfied: protobuf<7,>=3.20 in /usr/local/lib/python3.12/dist-packages (from streamlit) (5.29.5)\n",
            "Requirement already satisfied: pyarrow>=7.0 in /usr/local/lib/python3.12/dist-packages (from streamlit) (18.1.0)\n",
            "Requirement already satisfied: requests<3,>=2.27 in /usr/local/lib/python3.12/dist-packages (from streamlit) (2.32.4)\n",
            "Requirement already satisfied: tenacity<10,>=8.1.0 in /usr/local/lib/python3.12/dist-packages (from streamlit) (8.5.0)\n",
            "Requirement already satisfied: toml<2,>=0.10.1 in /usr/local/lib/python3.12/dist-packages (from streamlit) (0.10.2)\n",
            "Requirement already satisfied: typing-extensions<5,>=4.4.0 in /usr/local/lib/python3.12/dist-packages (from streamlit) (4.15.0)\n",
            "Requirement already satisfied: watchdog<7,>=2.1.5 in /usr/local/lib/python3.12/dist-packages (from streamlit) (6.0.0)\n",
            "Requirement already satisfied: gitpython!=3.1.19,<4,>=3.0.7 in /usr/local/lib/python3.12/dist-packages (from streamlit) (3.1.45)\n",
            "Requirement already satisfied: pydeck<1,>=0.8.0b4 in /usr/local/lib/python3.12/dist-packages (from streamlit) (0.9.1)\n",
            "Requirement already satisfied: tornado!=6.5.0,<7,>=6.0.3 in /usr/local/lib/python3.12/dist-packages (from streamlit) (6.4.2)\n",
            "Requirement already satisfied: anyio<5,>=3.5.0 in /usr/local/lib/python3.12/dist-packages (from groq) (4.11.0)\n",
            "Requirement already satisfied: distro<2,>=1.7.0 in /usr/local/lib/python3.12/dist-packages (from groq) (1.9.0)\n",
            "Requirement already satisfied: httpx<1,>=0.23.0 in /usr/local/lib/python3.12/dist-packages (from groq) (0.28.1)\n",
            "Requirement already satisfied: pydantic<3,>=1.9.0 in /usr/local/lib/python3.12/dist-packages (from groq) (2.11.10)\n",
            "Requirement already satisfied: sniffio in /usr/local/lib/python3.12/dist-packages (from groq) (1.3.1)\n",
            "Requirement already satisfied: jinja2 in /usr/local/lib/python3.12/dist-packages (from altair!=5.4.0,!=5.4.1,<6,>=4.0->streamlit) (3.1.6)\n",
            "Requirement already satisfied: jsonschema>=3.0 in /usr/local/lib/python3.12/dist-packages (from altair!=5.4.0,!=5.4.1,<6,>=4.0->streamlit) (4.25.1)\n",
            "Requirement already satisfied: narwhals>=1.14.2 in /usr/local/lib/python3.12/dist-packages (from altair!=5.4.0,!=5.4.1,<6,>=4.0->streamlit) (2.7.0)\n",
            "Requirement already satisfied: idna>=2.8 in /usr/local/lib/python3.12/dist-packages (from anyio<5,>=3.5.0->groq) (3.10)\n",
            "Requirement already satisfied: gitdb<5,>=4.0.1 in /usr/local/lib/python3.12/dist-packages (from gitpython!=3.1.19,<4,>=3.0.7->streamlit) (4.0.12)\n",
            "Requirement already satisfied: certifi in /usr/local/lib/python3.12/dist-packages (from httpx<1,>=0.23.0->groq) (2025.10.5)\n",
            "Requirement already satisfied: httpcore==1.* in /usr/local/lib/python3.12/dist-packages (from httpx<1,>=0.23.0->groq) (1.0.9)\n",
            "Requirement already satisfied: h11>=0.16 in /usr/local/lib/python3.12/dist-packages (from httpcore==1.*->httpx<1,>=0.23.0->groq) (0.16.0)\n",
            "Requirement already satisfied: python-dateutil>=2.8.2 in /usr/local/lib/python3.12/dist-packages (from pandas<3,>=1.4.0->streamlit) (2.9.0.post0)\n",
            "Requirement already satisfied: pytz>=2020.1 in /usr/local/lib/python3.12/dist-packages (from pandas<3,>=1.4.0->streamlit) (2025.2)\n",
            "Requirement already satisfied: tzdata>=2022.7 in /usr/local/lib/python3.12/dist-packages (from pandas<3,>=1.4.0->streamlit) (2025.2)\n",
            "Requirement already satisfied: annotated-types>=0.6.0 in /usr/local/lib/python3.12/dist-packages (from pydantic<3,>=1.9.0->groq) (0.7.0)\n",
            "Requirement already satisfied: pydantic-core==2.33.2 in /usr/local/lib/python3.12/dist-packages (from pydantic<3,>=1.9.0->groq) (2.33.2)\n",
            "Requirement already satisfied: typing-inspection>=0.4.0 in /usr/local/lib/python3.12/dist-packages (from pydantic<3,>=1.9.0->groq) (0.4.2)\n",
            "Requirement already satisfied: charset_normalizer<4,>=2 in /usr/local/lib/python3.12/dist-packages (from requests<3,>=2.27->streamlit) (3.4.3)\n",
            "Requirement already satisfied: urllib3<3,>=1.21.1 in /usr/local/lib/python3.12/dist-packages (from requests<3,>=2.27->streamlit) (2.5.0)\n",
            "Requirement already satisfied: smmap<6,>=3.0.1 in /usr/local/lib/python3.12/dist-packages (from gitdb<5,>=4.0.1->gitpython!=3.1.19,<4,>=3.0.7->streamlit) (5.0.2)\n",
            "Requirement already satisfied: MarkupSafe>=2.0 in /usr/local/lib/python3.12/dist-packages (from jinja2->altair!=5.4.0,!=5.4.1,<6,>=4.0->streamlit) (3.0.3)\n",
            "Requirement already satisfied: attrs>=22.2.0 in /usr/local/lib/python3.12/dist-packages (from jsonschema>=3.0->altair!=5.4.0,!=5.4.1,<6,>=4.0->streamlit) (25.4.0)\n",
            "Requirement already satisfied: jsonschema-specifications>=2023.03.6 in /usr/local/lib/python3.12/dist-packages (from jsonschema>=3.0->altair!=5.4.0,!=5.4.1,<6,>=4.0->streamlit) (2025.9.1)\n",
            "Requirement already satisfied: referencing>=0.28.4 in /usr/local/lib/python3.12/dist-packages (from jsonschema>=3.0->altair!=5.4.0,!=5.4.1,<6,>=4.0->streamlit) (0.36.2)\n",
            "Requirement already satisfied: rpds-py>=0.7.1 in /usr/local/lib/python3.12/dist-packages (from jsonschema>=3.0->altair!=5.4.0,!=5.4.1,<6,>=4.0->streamlit) (0.27.1)\n",
            "Requirement already satisfied: six>=1.5 in /usr/local/lib/python3.12/dist-packages (from python-dateutil>=2.8.2->pandas<3,>=1.4.0->streamlit) (1.17.0)\n"
          ]
        }
      ],
      "source": [
        "!pip install pyngrok streamlit groq"
      ]
    },
    {
      "cell_type": "code",
      "execution_count": null,
      "metadata": {
        "colab": {
          "base_uri": "https://localhost:8080/"
        },
        "id": "PP_UMJrmOw6F",
        "outputId": "a3f16a78-f756-42fa-8728-8945ca567a6e"
      },
      "outputs": [
        {
          "name": "stdout",
          "output_type": "stream",
          "text": [
            "Authtoken saved to configuration file: /root/.config/ngrok/ngrok.yml\n"
          ]
        }
      ],
      "source": [
        "!ngrok config add-authtoken \"my token here\""
      ]
    },
    {
      "cell_type": "code",
      "execution_count": 77,
      "metadata": {
        "colab": {
          "base_uri": "https://localhost:8080/"
        },
        "id": "xdwGpQ9ZCneT",
        "outputId": "72f20b50-f1f3-416a-efc4-d85018210fb8"
      },
      "outputs": [
        {
          "name": "stderr",
          "output_type": "stream",
          "text": [
            "WARNING:pyngrok.process.ngrok:t=2025-10-14T11:17:29+0000 lvl=warn msg=\"Stopping forwarder\" name=http-8501-6fbade55-0b9f-4750-ab7d-ca1c9342086e acceptErr=\"failed to accept connection: Listener closed\"\n",
            "WARNING:pyngrok.process.ngrok:t=2025-10-14T11:17:29+0000 lvl=warn msg=\"Error restarting forwarder\" name=http-8501-6fbade55-0b9f-4750-ab7d-ca1c9342086e err=\"failed to start tunnel: session closed\"\n"
          ]
        }
      ],
      "source": [
        "!pkill ngrok\n"
      ]
    },
    {
      "cell_type": "code",
      "execution_count": 78,
      "metadata": {
        "colab": {
          "base_uri": "https://localhost:8080/"
        },
        "id": "d1quYzxIAbds",
        "outputId": "b250b355-7edf-48f9-d272-fac8e1226a0c"
      },
      "outputs": [
        {
          "name": "stdout",
          "output_type": "stream",
          "text": [
            "🌐 Your Coles AI (Groq) Chatbot is live at: NgrokTunnel: \"https://warren-unconforming-lexicographically.ngrok-free.dev\" -> \"http://localhost:8501\"\n"
          ]
        }
      ],
      "source": [
        "from pyngrok import ngrok\n",
        "!streamlit run app.py &>/dev/null &\n",
        "\n",
        "public_url = ngrok.connect(8501)\n",
        "print(\"🌐 Your Coles AI (Groq) Chatbot is live at:\", public_url)\n"
      ]
    }
  ],
  "metadata": {
    "colab": {
      "provenance": []
    },
    "kernelspec": {
      "display_name": "Python 3",
      "name": "python3"
    },
    "language_info": {
      "name": "python"
    }
  },
  "nbformat": 4,
  "nbformat_minor": 0
}
